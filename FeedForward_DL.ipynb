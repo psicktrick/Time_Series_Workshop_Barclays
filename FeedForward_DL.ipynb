{
 "cells": [
  {
   "cell_type": "code",
   "execution_count": 1,
   "metadata": {},
   "outputs": [
    {
     "name": "stderr",
     "output_type": "stream",
     "text": [
      "Using TensorFlow backend.\n"
     ]
    }
   ],
   "source": [
    "import pickle\n",
    "from datetime import datetime\n",
    "from sklearn import preprocessing\n",
    "import pandas as pd\n",
    "import numpy as np\n",
    "import random\n",
    "import warnings\n",
    "from sklearn.preprocessing import OneHotEncoder\n",
    "from sklearn.metrics import mean_squared_error\n",
    "import matplotlib.pyplot as plt\n",
    "import sys\n",
    "import math\n",
    "sys.setrecursionlimit(10000)\n",
    "warnings.filterwarnings('ignore')\n",
    "random.seed(42)\n",
    "\n",
    "from keras.models import Sequential\n",
    "from keras.models import Model as KerasModel\n",
    "from keras.models import Model as KerasModel\n",
    "from keras.layers import Input, Dense, Activation, Reshape,Dropout\n",
    "from keras.layers import Concatenate\n",
    "from keras.layers.embeddings import Embedding\n",
    "from keras.callbacks import ModelCheckpoint"
   ]
  },
  {
   "cell_type": "code",
   "execution_count": 2,
   "metadata": {},
   "outputs": [
    {
     "name": "stdout",
     "output_type": "stream",
     "text": [
      "Load the training, test and store data using pandas\n"
     ]
    }
   ],
   "source": [
    "print(\"Load the training, test and store data using pandas\")\n",
    "train = pd.read_csv(\"train.csv\")\n",
    "train.index = train.Date\n",
    "store = pd.read_csv(\"store.csv\")\n",
    "stores = pd.read_csv(\"store_states.csv\")\n",
    "train = pd.merge(train,stores,on = \"Store\")\n",
    "\n",
    "pd.set_option('display.max_columns', 500)\n",
    "pd.set_option('display.max_columns', 160)"
   ]
  },
  {
   "cell_type": "code",
   "execution_count": 3,
   "metadata": {},
   "outputs": [
    {
     "data": {
      "text/html": [
       "<div>\n",
       "<style scoped>\n",
       "    .dataframe tbody tr th:only-of-type {\n",
       "        vertical-align: middle;\n",
       "    }\n",
       "\n",
       "    .dataframe tbody tr th {\n",
       "        vertical-align: top;\n",
       "    }\n",
       "\n",
       "    .dataframe thead th {\n",
       "        text-align: right;\n",
       "    }\n",
       "</style>\n",
       "<table border=\"1\" class=\"dataframe\">\n",
       "  <thead>\n",
       "    <tr style=\"text-align: right;\">\n",
       "      <th></th>\n",
       "      <th>Store</th>\n",
       "      <th>DayOfWeek</th>\n",
       "      <th>Date</th>\n",
       "      <th>Sales</th>\n",
       "      <th>Customers</th>\n",
       "      <th>Open</th>\n",
       "      <th>Promo</th>\n",
       "      <th>StateHoliday</th>\n",
       "      <th>SchoolHoliday</th>\n",
       "      <th>State</th>\n",
       "    </tr>\n",
       "  </thead>\n",
       "  <tbody>\n",
       "    <tr>\n",
       "      <th>0</th>\n",
       "      <td>1</td>\n",
       "      <td>5</td>\n",
       "      <td>2015-07-31</td>\n",
       "      <td>5263</td>\n",
       "      <td>555</td>\n",
       "      <td>1</td>\n",
       "      <td>1</td>\n",
       "      <td>0</td>\n",
       "      <td>1</td>\n",
       "      <td>HE</td>\n",
       "    </tr>\n",
       "    <tr>\n",
       "      <th>1</th>\n",
       "      <td>1</td>\n",
       "      <td>4</td>\n",
       "      <td>2015-07-30</td>\n",
       "      <td>5020</td>\n",
       "      <td>546</td>\n",
       "      <td>1</td>\n",
       "      <td>1</td>\n",
       "      <td>0</td>\n",
       "      <td>1</td>\n",
       "      <td>HE</td>\n",
       "    </tr>\n",
       "    <tr>\n",
       "      <th>2</th>\n",
       "      <td>1</td>\n",
       "      <td>3</td>\n",
       "      <td>2015-07-29</td>\n",
       "      <td>4782</td>\n",
       "      <td>523</td>\n",
       "      <td>1</td>\n",
       "      <td>1</td>\n",
       "      <td>0</td>\n",
       "      <td>1</td>\n",
       "      <td>HE</td>\n",
       "    </tr>\n",
       "    <tr>\n",
       "      <th>3</th>\n",
       "      <td>1</td>\n",
       "      <td>2</td>\n",
       "      <td>2015-07-28</td>\n",
       "      <td>5011</td>\n",
       "      <td>560</td>\n",
       "      <td>1</td>\n",
       "      <td>1</td>\n",
       "      <td>0</td>\n",
       "      <td>1</td>\n",
       "      <td>HE</td>\n",
       "    </tr>\n",
       "    <tr>\n",
       "      <th>4</th>\n",
       "      <td>1</td>\n",
       "      <td>1</td>\n",
       "      <td>2015-07-27</td>\n",
       "      <td>6102</td>\n",
       "      <td>612</td>\n",
       "      <td>1</td>\n",
       "      <td>1</td>\n",
       "      <td>0</td>\n",
       "      <td>1</td>\n",
       "      <td>HE</td>\n",
       "    </tr>\n",
       "  </tbody>\n",
       "</table>\n",
       "</div>"
      ],
      "text/plain": [
       "   Store  DayOfWeek        Date  Sales  Customers  Open  Promo StateHoliday  \\\n",
       "0      1          5  2015-07-31   5263        555     1      1            0   \n",
       "1      1          4  2015-07-30   5020        546     1      1            0   \n",
       "2      1          3  2015-07-29   4782        523     1      1            0   \n",
       "3      1          2  2015-07-28   5011        560     1      1            0   \n",
       "4      1          1  2015-07-27   6102        612     1      1            0   \n",
       "\n",
       "   SchoolHoliday State  \n",
       "0              1    HE  \n",
       "1              1    HE  \n",
       "2              1    HE  \n",
       "3              1    HE  \n",
       "4              1    HE  "
      ]
     },
     "execution_count": 3,
     "metadata": {},
     "output_type": "execute_result"
    }
   ],
   "source": [
    "train.head()"
   ]
  },
  {
   "cell_type": "code",
   "execution_count": 4,
   "metadata": {},
   "outputs": [],
   "source": [
    "### Test and Train Separation ###\n",
    "X_train = train[train.Date < '2015-04-01']\n",
    "X_test = train[train.Date >= '2015-04-01']"
   ]
  },
  {
   "cell_type": "code",
   "execution_count": 5,
   "metadata": {},
   "outputs": [],
   "source": [
    "### Create Features ####\n",
    "def create_features(data):\n",
    "    data.fillna(0, inplace=True)\n",
    "    data.loc[data.Open.isnull(), 'Open'] = 1\n",
    "    data  =data[data.Open == 1]\n",
    "    data.Date=pd.to_datetime(data.Date)\n",
    "    Frame = []\n",
    "    Frame.append((data[\"Store\"].values))\n",
    "    Frame.append((data[\"DayOfWeek\"].values))\n",
    "    Frame.append((data[\"Promo\"].values))\n",
    "    Frame.append((data.Date.dt.year.values))\n",
    "    Frame.append((data.Date.dt.month.values))\n",
    "    Frame.append((data.Date.dt.day.values))\n",
    "    Frame.append((data['State'].values))\n",
    "    Frame.append((data['Sales'].values))\n",
    "    return Frame\n",
    "    \n",
    "X_train_features = create_features(X_train)\n",
    "X_test_features = create_features(X_test)\n",
    "x_trai = []\n",
    "x_tes = []\n",
    "for i in range(len(X_train_features)-1):\n",
    "\n",
    "    le = preprocessing.LabelEncoder()\n",
    "    le.fit(X_train_features[i])\n",
    "    x_trai.append(le.transform(X_train_features[i]))\n",
    "    x_tes.append(le.transform(X_test_features[i]))\n",
    "    \n",
    "    "
   ]
  },
  {
   "cell_type": "code",
   "execution_count": null,
   "metadata": {},
   "outputs": [],
   "source": []
  },
  {
   "cell_type": "code",
   "execution_count": 6,
   "metadata": {},
   "outputs": [
    {
     "name": "stdout",
     "output_type": "stream",
     "text": [
      "10.634676867382668\n"
     ]
    }
   ],
   "source": [
    "max_log_y = max(np.max(np.log(X_train_features[7])), np.max(np.log(X_test_features[7])))\n",
    "def _val_for_fit(val,max_log_y):\n",
    "    val = np.log(val+1) / max_log_y\n",
    "    return val\n",
    "print(max_log_y)"
   ]
  },
  {
   "cell_type": "code",
   "execution_count": 7,
   "metadata": {},
   "outputs": [],
   "source": [
    "input_store = Input(shape=(1,))\n",
    "output_store = Embedding(1115, 10, name='store_embedding')(input_store)\n",
    "output_store = Reshape(target_shape=(10,))(output_store)\n",
    "\n",
    "input_dow = Input(shape=(1,))\n",
    "output_dow = Embedding(7, 6, name='dow_embedding')(input_dow)\n",
    "output_dow = Reshape(target_shape=(6,))(output_dow)\n",
    "\n",
    "input_promo = Input(shape=(1,))\n",
    "output_promo = Dense(1)(input_promo)\n",
    "\n",
    "input_year = Input(shape=(1,))\n",
    "output_year = Embedding(3, 2, name='year_embedding')(input_year)\n",
    "output_year = Reshape(target_shape=(2,))(output_year)\n",
    "\n",
    "input_month = Input(shape=(1,))\n",
    "output_month = Embedding(12, 6, name='month_embedding')(input_month)\n",
    "output_month = Reshape(target_shape=(6,))(output_month)\n",
    "\n",
    "input_day = Input(shape=(1,))\n",
    "output_day = Embedding(31, 10, name='day_embedding')(input_day)\n",
    "output_day = Reshape(target_shape=(10,))(output_day)\n",
    "\n",
    "input_germanstate = Input(shape=(1,))\n",
    "output_germanstate = Embedding(12, 6, name='state_embedding')(input_germanstate)\n",
    "output_germanstate = Reshape(target_shape=(6,))(output_germanstate)\n",
    "\n",
    "input_model = [input_store, input_dow, input_promo,\n",
    "               input_year, input_month, input_day, input_germanstate]\n",
    "\n",
    "output_embeddings = [output_store, output_dow, output_promo,\n",
    "                     output_year, output_month, output_day, output_germanstate]\n",
    "\n",
    "output_model = Concatenate()(output_embeddings)\n",
    "output_model = Dense(1000, kernel_initializer=\"uniform\")(output_model)\n",
    "output_model = Dropout(0.2)(output_model)\n",
    "output_model = Activation('relu')(output_model)\n",
    "output_model = Dense(500, kernel_initializer=\"uniform\")(output_model)\n",
    "output_model = Dropout(0.2)(output_model)\n",
    "output_model = Activation('relu')(output_model)\n",
    "output_model = Dense(1)(output_model)\n",
    "output_model = Activation('sigmoid')(output_model)\n",
    "\n",
    "model = KerasModel(inputs=input_model, outputs=output_model)\n",
    "\n",
    "model.compile(loss='mean_absolute_error', optimizer='adam')"
   ]
  },
  {
   "cell_type": "code",
   "execution_count": 195,
   "metadata": {},
   "outputs": [
    {
     "name": "stdout",
     "output_type": "stream",
     "text": [
      "Train on 732970 samples, validate on 111422 samples\n",
      "Epoch 1/3\n",
      "732970/732970 [==============================] - 51s 70us/step - loss: 0.0071 - val_loss: 0.0095\n",
      "Epoch 2/3\n",
      "732970/732970 [==============================] - 54s 74us/step - loss: 0.0070 - val_loss: 0.0094\n",
      "Epoch 3/3\n",
      "732970/732970 [==============================] - 53s 73us/step - loss: 0.0070 - val_loss: 0.0093\n"
     ]
    },
    {
     "data": {
      "text/plain": [
       "<keras.callbacks.History at 0x1a3f79ca58>"
      ]
     },
     "execution_count": 195,
     "metadata": {},
     "output_type": "execute_result"
    }
   ],
   "source": [
    "model.fit(x_trai,_val_for_fit(X_train_features[7],max_log_y),\n",
    "                       validation_data=(x_tes, _val_for_fit(X_test_features[7],max_log_y)),\n",
    "                       epochs=3, batch_size=128\n",
    "                       )"
   ]
  },
  {
   "cell_type": "code",
   "execution_count": 10,
   "metadata": {},
   "outputs": [],
   "source": [
    "model.save(\"Best_iteration\")\n",
    "\n",
    "def _val_for_pred(val):\n",
    "    return np.exp((val* max_log_y))-1"
   ]
  },
  {
   "cell_type": "code",
   "execution_count": 11,
   "metadata": {},
   "outputs": [],
   "source": [
    "model.load_weights(\"Best_iteration\")"
   ]
  },
  {
   "cell_type": "code",
   "execution_count": 12,
   "metadata": {},
   "outputs": [
    {
     "name": "stdout",
     "output_type": "stream",
     "text": [
      "RMSE: 517.6544845372765\n"
     ]
    }
   ],
   "source": [
    "test = X_test[X_test.Store==6]\n",
    "def create_features(data):\n",
    "    data.fillna(0, inplace=True)\n",
    "    data.loc[data.Open.isnull(), 'Open'] = 1\n",
    "    data.Date=pd.to_datetime(data.Date)\n",
    "    Frame = []\n",
    "    Frame.append((data[\"Store\"].values))\n",
    "    Frame.append((data[\"DayOfWeek\"].values))\n",
    "    Frame.append((data[\"Promo\"].values))\n",
    "    Frame.append((data.Date.dt.year.values))\n",
    "    Frame.append((data.Date.dt.month.values))\n",
    "    Frame.append((data.Date.dt.day.values))\n",
    "    Frame.append((data['State'].values))\n",
    "    Frame.append((data['Sales'].values))\n",
    "    return Frame\n",
    "test_features = create_features(test)\n",
    "x_val = []\n",
    "for i in range(len(X_train_features)-1):\n",
    "\n",
    "    le = preprocessing.LabelEncoder()\n",
    "    le.fit(X_train_features[i])\n",
    "    x_val.append(le.transform(test_features[i]))\n",
    "    \n",
    "result = model.predict(x_val).flatten()\n",
    "test[\"predict\"] = _val_for_pred(result)\n",
    "test[\"predict\"][test.Open != 1]= 0 \n",
    "measure = math.pow(mean_squared_error(test[\"predict\"],test['Sales'].values), 0.5)\n",
    "print(\"RMSE:\", measure)"
   ]
  },
  {
   "cell_type": "code",
   "execution_count": 17,
   "metadata": {},
   "outputs": [],
   "source": [
    "test.index = test.Date\n",
    "test= test.sort_values(\"Date\")"
   ]
  },
  {
   "cell_type": "code",
   "execution_count": 18,
   "metadata": {},
   "outputs": [
    {
     "data": {
      "image/png": "[encoded data removed]",
      "text/plain": [
       "<Figure size 720x216 with 1 Axes>"
      ]
     },
     "metadata": {},
     "output_type": "display_data"
    }
   ],
   "source": [
    "# Dynamic predictions\n",
    "# Graph\n",
    "fig, ax = plt.subplots(figsize=(10,3))\n",
    "ax.set(title='Personal consumption', xlabel='Date', ylabel='Billions of dollars')\n",
    "\n",
    "t_start='2015-01-01'\n",
    "pred_start = '2014-04-01'\n",
    "t_end='2015-07-31'\n",
    "test.Sales.plot(ax=ax, style='-',linewidth=1.6, label='Observed')\n",
    "test.predict.plot(ax=ax,style='-',linewidth=2, label='forecast')\n",
    "legend = ax.legend(loc='lower right',bbox_to_anchor=(1,1))"
   ]
  }
 ],
 "metadata": {
  "kernelspec": {
   "display_name": "Python 3",
   "language": "python",
   "name": "python3"
  },
  "language_info": {
   "codemirror_mode": {
    "name": "ipython",
    "version": 3
   },
   "file_extension": ".py",
   "mimetype": "text/x-python",
   "name": "python",
   "nbconvert_exporter": "python",
   "pygments_lexer": "ipython3",
   "version": "3.6.5"
  }
 },
 "nbformat": 4,
 "nbformat_minor": 2
}
